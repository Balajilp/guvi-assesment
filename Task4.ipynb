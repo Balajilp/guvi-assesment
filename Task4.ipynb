{
 "cells": [
  {
   "cell_type": "markdown",
   "id": "02cbdbd5",
   "metadata": {},
   "source": [
    "# Assesment"
   ]
  },
  {
   "cell_type": "markdown",
   "id": "9f7e08b0",
   "metadata": {},
   "source": [
    "### I am going to provide two .csv files , you are supposed to work on them and have to provide solutions to the following problems"
   ]
  },
  {
   "cell_type": "code",
   "execution_count": 2,
   "id": "5b66f065",
   "metadata": {},
   "outputs": [],
   "source": [
    "#import necessary libraries"
   ]
  },
  {
   "cell_type": "code",
   "execution_count": 3,
   "id": "956feec1",
   "metadata": {},
   "outputs": [],
   "source": [
    "import pandas as pd\n",
    "from matplotlib import pyplot as plt"
   ]
  },
  {
   "cell_type": "markdown",
   "id": "2cb8474d",
   "metadata": {},
   "source": [
    "###merge those two csv files (after getting as dataframes, get them as a single dataframe)\n",
    "#Reading the CSV files"
   ]
  },
  {
   "cell_type": "code",
   "execution_count": 5,
   "id": "f322d621",
   "metadata": {},
   "outputs": [
    {
     "data": {
      "text/html": [
       "<div>\n",
       "<style scoped>\n",
       "    .dataframe tbody tr th:only-of-type {\n",
       "        vertical-align: middle;\n",
       "    }\n",
       "\n",
       "    .dataframe tbody tr th {\n",
       "        vertical-align: top;\n",
       "    }\n",
       "\n",
       "    .dataframe thead th {\n",
       "        text-align: right;\n",
       "    }\n",
       "</style>\n",
       "<table border=\"1\" class=\"dataframe\">\n",
       "  <thead>\n",
       "    <tr style=\"text-align: right;\">\n",
       "      <th></th>\n",
       "      <th>Name</th>\n",
       "      <th>python</th>\n",
       "      <th>python_en</th>\n",
       "      <th>mysql</th>\n",
       "      <th>computational_thinking</th>\n",
       "      <th>Previous Geekions</th>\n",
       "      <th>CodeKata Score</th>\n",
       "      <th>Department</th>\n",
       "      <th>Rising</th>\n",
       "    </tr>\n",
       "  </thead>\n",
       "  <tbody>\n",
       "    <tr>\n",
       "      <th>0</th>\n",
       "      <td>ASHOK KUMAR K</td>\n",
       "      <td>100.0</td>\n",
       "      <td>0.0</td>\n",
       "      <td>31.0</td>\n",
       "      <td>9.0</td>\n",
       "      <td>19400</td>\n",
       "      <td>19400</td>\n",
       "      <td>Electronics and Electrical Engineering</td>\n",
       "      <td>0</td>\n",
       "    </tr>\n",
       "    <tr>\n",
       "      <th>1</th>\n",
       "      <td>Chandru</td>\n",
       "      <td>0.0</td>\n",
       "      <td>20.0</td>\n",
       "      <td>0.0</td>\n",
       "      <td>0.0</td>\n",
       "      <td>14150</td>\n",
       "      <td>14490</td>\n",
       "      <td>Computer Science and Engineering</td>\n",
       "      <td>340</td>\n",
       "    </tr>\n",
       "    <tr>\n",
       "      <th>2</th>\n",
       "      <td>Ganesh Ramkumar R</td>\n",
       "      <td>-1.0</td>\n",
       "      <td>55.0</td>\n",
       "      <td>24.0</td>\n",
       "      <td>6.0</td>\n",
       "      <td>8790</td>\n",
       "      <td>10790</td>\n",
       "      <td>Computer Science and Engineering</td>\n",
       "      <td>2000</td>\n",
       "    </tr>\n",
       "    <tr>\n",
       "      <th>3</th>\n",
       "      <td>Bodipudi Harini</td>\n",
       "      <td>-1.0</td>\n",
       "      <td>0.0</td>\n",
       "      <td>35.0</td>\n",
       "      <td>-1.0</td>\n",
       "      <td>10040</td>\n",
       "      <td>10040</td>\n",
       "      <td>Electronics and Communication Engineering</td>\n",
       "      <td>0</td>\n",
       "    </tr>\n",
       "    <tr>\n",
       "      <th>4</th>\n",
       "      <td>VIINU V P</td>\n",
       "      <td>-1.0</td>\n",
       "      <td>100.0</td>\n",
       "      <td>24.0</td>\n",
       "      <td>-1.0</td>\n",
       "      <td>9150</td>\n",
       "      <td>9150</td>\n",
       "      <td>Electronics and Electrical Engineering</td>\n",
       "      <td>0</td>\n",
       "    </tr>\n",
       "  </tbody>\n",
       "</table>\n",
       "</div>"
      ],
      "text/plain": [
       "                Name  python  python_en  mysql  computational_thinking  \\\n",
       "0      ASHOK KUMAR K   100.0        0.0   31.0                     9.0   \n",
       "1            Chandru     0.0       20.0    0.0                     0.0   \n",
       "2  Ganesh Ramkumar R    -1.0       55.0   24.0                     6.0   \n",
       "3    Bodipudi Harini    -1.0        0.0   35.0                    -1.0   \n",
       "4          VIINU V P    -1.0      100.0   24.0                    -1.0   \n",
       "\n",
       "   Previous Geekions  CodeKata Score  \\\n",
       "0              19400           19400   \n",
       "1              14150           14490   \n",
       "2               8790           10790   \n",
       "3              10040           10040   \n",
       "4               9150            9150   \n",
       "\n",
       "                                  Department  Rising  \n",
       "0     Electronics and Electrical Engineering       0  \n",
       "1           Computer Science and Engineering     340  \n",
       "2           Computer Science and Engineering    2000  \n",
       "3  Electronics and Communication Engineering       0  \n",
       "4     Electronics and Electrical Engineering       0  "
      ]
     },
     "execution_count": 5,
     "metadata": {},
     "output_type": "execute_result"
    }
   ],
   "source": [
    "#Reading the CSV files\n",
    "df1 = pd.read_csv('C:/Users/91951/Desktop/Task4_Data/college_1.csv')\n",
    "df2 = pd.read_csv('C:/Users/91951/Desktop/Task4_Data/college_2.csv')\n",
    "\n",
    "#Merging them into single dataframe\n",
    "df = df2.append(df1, ignore_index=True)\n",
    "\n",
    "#Filling the NaN values with '0'\n",
    "df.fillna(0, inplace=True)\n",
    "\n",
    "#Dataframe preview\n",
    "df.head()"
   ]
  },
  {
   "cell_type": "markdown",
   "id": "e21d1389",
   "metadata": {},
   "source": [
    "### Take each csv file , split that csv file into multiple categories (example csv files are added in the repo)"
   ]
  },
  {
   "cell_type": "markdown",
   "id": "e014a2fe",
   "metadata": {},
   "source": [
    "### consider if the codekata score exceeds 15000 points(present week) then make a csv on those observations as Exceeded expectations.csv"
   ]
  },
  {
   "cell_type": "code",
   "execution_count": 6,
   "id": "b323ff86",
   "metadata": {},
   "outputs": [],
   "source": [
    "df[df['CodeKata Score'] >= 15000].to_csv('Exceeded_expectations.csv',index=False)"
   ]
  },
  {
   "cell_type": "markdown",
   "id": "4928badb",
   "metadata": {},
   "source": [
    "### if 7000<codekata score<10000 (Needs_Improvement.csv)"
   ]
  },
  {
   "cell_type": "code",
   "execution_count": 7,
   "id": "dd6aba74",
   "metadata": {},
   "outputs": [],
   "source": [
    "df[(df['CodeKata Score'] >= 7000) & (df['CodeKata Score'] < 10000)].to_csv('Needs_Improvement.csv',index=False)"
   ]
  },
  {
   "cell_type": "markdown",
   "id": "5c63ce52",
   "metadata": {},
   "source": [
    "### if codekate score < 7000 (Unsatisfactory.csv)"
   ]
  },
  {
   "cell_type": "code",
   "execution_count": 9,
   "id": "a81e12d1",
   "metadata": {},
   "outputs": [],
   "source": [
    "df[df['CodeKata Score'] < 7000].to_csv('Unsatisfactory.csv',index=False)"
   ]
  },
  {
   "cell_type": "markdown",
   "id": "bab225e8",
   "metadata": {},
   "source": [
    "### Average of previous week geekions vs this week geekions (i.e Previous Geekions vs CodeKata Score)"
   ]
  },
  {
   "cell_type": "code",
   "execution_count": 10,
   "id": "e68d2d28",
   "metadata": {},
   "outputs": [
    {
     "name": "stdout",
     "output_type": "stream",
     "text": [
      "Average of Previous Geekions: 3842.35\n",
      "Average of CodeKata Score: 4051.76\n"
     ]
    }
   ],
   "source": [
    "print('Average of Previous Geekions:', round(df['Previous Geekions'].mean(),2))\n",
    "print('Average of CodeKata Score:', round(df['CodeKata Score'].mean(),2))"
   ]
  },
  {
   "cell_type": "markdown",
   "id": "76ea3f16",
   "metadata": {},
   "source": [
    "### No of students participated"
   ]
  },
  {
   "cell_type": "code",
   "execution_count": 11,
   "id": "a32c7afb",
   "metadata": {},
   "outputs": [
    {
     "name": "stdout",
     "output_type": "stream",
     "text": [
      "No of students participated: 119\n"
     ]
    }
   ],
   "source": [
    "print('No of students participated:', df.shape[0])"
   ]
  },
  {
   "cell_type": "markdown",
   "id": "c7ca4f34",
   "metadata": {},
   "source": [
    "### #Average completion of python course or my_sql or python english or computational thinking"
   ]
  },
  {
   "cell_type": "code",
   "execution_count": 12,
   "id": "bdfbb646",
   "metadata": {},
   "outputs": [
    {
     "name": "stdout",
     "output_type": "stream",
     "text": [
      "Average is 21.81\n"
     ]
    }
   ],
   "source": [
    "avg = round((df['python'] + df['python_en'] + df['mysql'] + df['computational_thinking']).mean()/4, 2)\n",
    "print('Average is', avg)"
   ]
  },
  {
   "cell_type": "markdown",
   "id": "a5130c05",
   "metadata": {},
   "source": [
    "### Shining stars of the week (top 3 candidates who has highest geekions)"
   ]
  },
  {
   "cell_type": "code",
   "execution_count": 14,
   "id": "71276fc6",
   "metadata": {},
   "outputs": [
    {
     "data": {
      "text/html": [
       "<div>\n",
       "<style scoped>\n",
       "    .dataframe tbody tr th:only-of-type {\n",
       "        vertical-align: middle;\n",
       "    }\n",
       "\n",
       "    .dataframe tbody tr th {\n",
       "        vertical-align: top;\n",
       "    }\n",
       "\n",
       "    .dataframe thead th {\n",
       "        text-align: right;\n",
       "    }\n",
       "</style>\n",
       "<table border=\"1\" class=\"dataframe\">\n",
       "  <thead>\n",
       "    <tr style=\"text-align: right;\">\n",
       "      <th></th>\n",
       "      <th>Name</th>\n",
       "      <th>python</th>\n",
       "      <th>python_en</th>\n",
       "      <th>mysql</th>\n",
       "      <th>computational_thinking</th>\n",
       "      <th>Previous Geekions</th>\n",
       "      <th>CodeKata Score</th>\n",
       "      <th>Department</th>\n",
       "      <th>Rising</th>\n",
       "    </tr>\n",
       "  </thead>\n",
       "  <tbody>\n",
       "    <tr>\n",
       "      <th>35</th>\n",
       "      <td>A.Dharani</td>\n",
       "      <td>82.0</td>\n",
       "      <td>0.0</td>\n",
       "      <td>20.0</td>\n",
       "      <td>0.0</td>\n",
       "      <td>24500</td>\n",
       "      <td>24500</td>\n",
       "      <td>Computer Science and Engineering</td>\n",
       "      <td>0</td>\n",
       "    </tr>\n",
       "    <tr>\n",
       "      <th>36</th>\n",
       "      <td>V.JEEVITHA</td>\n",
       "      <td>82.0</td>\n",
       "      <td>0.0</td>\n",
       "      <td>20.0</td>\n",
       "      <td>0.0</td>\n",
       "      <td>21740</td>\n",
       "      <td>21740</td>\n",
       "      <td>Computer Science and Engineering</td>\n",
       "      <td>0</td>\n",
       "    </tr>\n",
       "    <tr>\n",
       "      <th>37</th>\n",
       "      <td>HEMAVATHI.R</td>\n",
       "      <td>100.0</td>\n",
       "      <td>0.0</td>\n",
       "      <td>100.0</td>\n",
       "      <td>0.0</td>\n",
       "      <td>19680</td>\n",
       "      <td>19680</td>\n",
       "      <td>Computer Science and Engineering</td>\n",
       "      <td>0</td>\n",
       "    </tr>\n",
       "  </tbody>\n",
       "</table>\n",
       "</div>"
      ],
      "text/plain": [
       "           Name  python  python_en  mysql  computational_thinking  \\\n",
       "35    A.Dharani    82.0        0.0   20.0                     0.0   \n",
       "36  V.JEEVITHA     82.0        0.0   20.0                     0.0   \n",
       "37  HEMAVATHI.R   100.0        0.0  100.0                     0.0   \n",
       "\n",
       "    Previous Geekions  CodeKata Score                        Department  \\\n",
       "35              24500           24500  Computer Science and Engineering   \n",
       "36              21740           21740  Computer Science and Engineering   \n",
       "37              19680           19680  Computer Science and Engineering   \n",
       "\n",
       "    Rising  \n",
       "35       0  \n",
       "36       0  \n",
       "37       0  "
      ]
     },
     "execution_count": 14,
     "metadata": {},
     "output_type": "execute_result"
    }
   ],
   "source": [
    "df.nlargest(3, 'Previous Geekions')"
   ]
  },
  {
   "cell_type": "markdown",
   "id": "b51beb70",
   "metadata": {},
   "source": [
    "### Department wise codekata performence (pie chart) "
   ]
  },
  {
   "cell_type": "code",
   "execution_count": 15,
   "id": "368c1c92",
   "metadata": {},
   "outputs": [
    {
     "name": "stdout",
     "output_type": "stream",
     "text": [
      "Department\n",
      "Computer Science and Engineering             5079.761905\n",
      "Electronics and Communication Engineering    2777.820513\n",
      "Electronics and Electrical Engineering       3164.705882\n",
      "Name: CodeKata Score, dtype: float64 \n",
      "\n"
     ]
    },
    {
     "data": {
      "text/plain": [
       "Text(0.5, 1.0, 'Average CodeKata Score')"
      ]
     },
     "execution_count": 15,
     "metadata": {},
     "output_type": "execute_result"
    },
    {
     "data": {
      "image/png": "[encoded data removed]",
      "text/plain": [
       "<Figure size 432x288 with 1 Axes>"
      ]
     },
     "metadata": {},
     "output_type": "display_data"
    }
   ],
   "source": [
    "#Finding Department wise average codekata score\n",
    "department_wise_average_score = df.groupby(['Department'])['CodeKata Score'].mean()\n",
    "\n",
    "#Printing the result\n",
    "print(department_wise_average_score, '\\n')\n",
    "\n",
    "#Plotting Pie Chart\n",
    "plt.pie(department_wise_average_score, labels=['CSE','ECE','EEE'])\n",
    "plt.title('Average CodeKata Score')"
   ]
  },
  {
   "cell_type": "markdown",
   "id": "ca179e38",
   "metadata": {},
   "source": [
    "### Department wise toppers (horizantal bar graph or any visual representations of your choice)"
   ]
  },
  {
   "cell_type": "code",
   "execution_count": null,
   "id": "af077e8d",
   "metadata": {},
   "outputs": [],
   "source": []
  }
 ],
 "metadata": {
  "kernelspec": {
   "display_name": "Python 3 (ipykernel)",
   "language": "python",
   "name": "python3"
  },
  "language_info": {
   "codemirror_mode": {
    "name": "ipython",
    "version": 3
   },
   "file_extension": ".py",
   "mimetype": "text/x-python",
   "name": "python",
   "nbconvert_exporter": "python",
   "pygments_lexer": "ipython3",
   "version": "3.9.6"
  }
 },
 "nbformat": 4,
 "nbformat_minor": 5
}
